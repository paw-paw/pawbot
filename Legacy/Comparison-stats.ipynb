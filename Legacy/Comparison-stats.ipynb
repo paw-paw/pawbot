{
 "cells": [
  {
   "cell_type": "code",
   "execution_count": 4,
   "metadata": {
    "colab": {
     "base_uri": "https://localhost:8080/",
     "height": 138
    },
    "colab_type": "code",
    "id": "Js2wqPXCYMgn",
    "outputId": "3eb4741d-1b8e-4c5f-e89b-7f50d915d507"
   },
   "outputs": [],
   "source": [
    "import requests\n",
    "import pandas as pd\n",
    "import numpy as np\n",
    "from selenium.common.exceptions import NoSuchElementException\n",
    "try:\n",
    "    from selenium.webdriver import Chrome\n",
    "except:\n",
    "    !pip install selenium\n",
    "    from selenium.webdriver import Chrome"
   ]
  },
  {
   "cell_type": "code",
   "execution_count": 5,
   "metadata": {
    "colab": {
     "base_uri": "https://localhost:8080/",
     "height": 441
    },
    "colab_type": "code",
    "id": "w3F7JO10YL3Y",
    "outputId": "a23a945d-2e5d-4740-ae20-91df5fefd531"
   },
   "outputs": [],
   "source": [
    "def statscraper(driver,link):\n",
    "    # Abrir web\n",
    "    driver.get(link)\n",
    "\n",
    "    # Extraer primera pestaña\n",
    "    container = driver.find_element_by_class_name('most-played-heroes')\n",
    "    info = container.find_element_by_tag_name('tbody').text.split('\\n')\n",
    "    npinfo = np.array(info)\n",
    "    pdinfo = pd.DataFrame(np.split(npinfo,len(info)/5))\n",
    "    pdinfo.columns = ['hero','date','matches','wr','kda']\n",
    "\n",
    "    # Extraer segunda pestaña\n",
    "    container = driver.find_element_by_class_name('most-played-heroes')\n",
    "    clickme = container.find_element_by_css_selector('[data-group = \"2\"]')\n",
    "    clickme.click()\n",
    "    info2 = container.find_element_by_tag_name('tbody').text.split('\\n')\n",
    "    npinfo2 = np.array(info2)\n",
    "    pdinfo2 = pd.DataFrame(np.split(npinfo2,len(info2)/5))\n",
    "    pdinfo2.columns = ['hero','date','kills','deaths','assists']\n",
    "\n",
    "    # Extraer tercera pestaña\n",
    "    container = driver.find_element_by_class_name('most-played-heroes')\n",
    "    clickme = container.find_element_by_css_selector('[data-group = \"3\"]')\n",
    "    clickme.click()\n",
    "    info3 = container.find_element_by_tag_name('tbody').text.split('\\n')\n",
    "    npinfo3 = np.array(info3)\n",
    "    pdinfo3 = pd.DataFrame(np.split(npinfo3,len(info3)/6))\n",
    "    pdinfo3.columns = ['hero','date','lh','denies','gpm','xpm']\n",
    "\n",
    "    # Consolidar y hacer modificaciones\n",
    "    final = pdinfo.merge(pdinfo2,how='left',on=['hero','date'])\n",
    "    final = final.merge(pdinfo3,how='left',on=['hero','date'])\n",
    "    final['wr'] = final['wr'].apply(lambda x : x[:-1])\n",
    "    cols = final.columns\n",
    "    final[cols] = final[cols].apply(pd.to_numeric, errors='coerce')\n",
    "    final['wins'] = final['matches']*final['wr']/100\n",
    "    final = final.drop(['date','hero','kda','wr'],axis=1)\n",
    "    final = final[pd.notnull(final['kills'])]\n",
    "    final = final.agg({'matches':'sum','kills':'mean','deaths':'mean','assists':'mean','lh':'mean','denies':'mean','gpm':'mean','xpm':'mean','wins':'sum',})\n",
    "    if (final['deaths'] < 1):\n",
    "        final['deaths'] = 1\n",
    "    return final"
   ]
  },
  {
   "cell_type": "code",
   "execution_count": 6,
   "metadata": {},
   "outputs": [],
   "source": [
    "def agregado(final):\n",
    "    final['kda'] = (final['kills'] + final['assists']) / final['deaths']\n",
    "    final = final.drop(['kills','deaths','assists'])\n",
    "    final['winrate'] = final['wins']/final['matches']\n",
    "    final.drop('wins')\n",
    "    if final['matches'] < 15:\n",
    "        print('Tiene juegos, pero no los suficientes')\n",
    "        raise NoSuchElementException\n",
    "    return final"
   ]
  },
  {
   "cell_type": "code",
   "execution_count": 7,
   "metadata": {},
   "outputs": [],
   "source": [
    "def agregado2(final):\n",
    "    final['kda'] = (final['kills'] + final['assists']) / final['deaths']\n",
    "    final = final.drop(['kills','deaths','assists'])\n",
    "    final['winrate'] = final['wins']/final['matches']\n",
    "    final.drop('wins')\n",
    "    return final"
   ]
  },
  {
   "cell_type": "code",
   "execution_count": 8,
   "metadata": {
    "scrolled": true
   },
   "outputs": [],
   "source": [
    "def consolidado(stats):\n",
    "    df = pd.DataFrame(stats)\n",
    "    df = df.agg({'matches':'sum','kills':'mean','deaths':'mean','assists':'mean','lh':'mean','denies':'mean','gpm':'mean','xpm':'mean','wins':'sum',})\n",
    "    return(df)"
   ]
  },
  {
   "cell_type": "code",
   "execution_count": 21,
   "metadata": {},
   "outputs": [],
   "source": [
    "idfirstblood = '5738'\n",
    "idlpg = '10702'\n",
    "idmlpgs1 = '11316'\n",
    "idmlpgs2 = '11414'\n",
    "\n",
    "idslpg = [idlpg,idmlpgs1,idmlpgs2]"
   ]
  },
  {
   "cell_type": "code",
   "execution_count": null,
   "metadata": {},
   "outputs": [],
   "source": [
    "thunder = {'kotaro':'95825708','leostyle':'59463394','frank':'407321629','matthew':'155332459','wu':'186837494'}\n",
    "thunderid='6382242'\n",
    "infamous = {'timado':'97658618','roboz':'123953528','sacred':'408729743','sladin':'101779337','papita':'28070572'}\n",
    "infamousid='2672298'\n",
    "unknown = {'berna':'173971950','mrjeans':'133167741','greedy':'109455705','wij':'86850560','prada':'100758751','roy':'129856548'}\n",
    "unknownid = '7121518'\n",
    "team0900 = {'argius':'116080282','jeimari':'455509466','smash':'118073569','ztok':'100175472','jericho':'99672424'}\n",
    "team0900id = '6266565'\n",
    "infyoung = {'pakazs':'339235645','kxy':'197574429','drakeel':'969982039','michael':'248180032','accel':'99796146'}\n",
    "infyoungid = '5992560'\n",
    "creamesports = {'darkmago':'911671153','pamplona':'242885483','aretes':'278770268','tanya':'113639294','cucahook':'303673743'}\n",
    "creamid = '7640799' \n",
    "creamid = '7389602' #id de incubus"
   ]
  },
  {
   "cell_type": "code",
   "execution_count": 12,
   "metadata": {},
   "outputs": [],
   "source": [
    "teamid = egoboysid\n",
    "team = egoboys\n",
    "teamname='egoboys'"
   ]
  },
  {
   "cell_type": "code",
   "execution_count": 59,
   "metadata": {},
   "outputs": [
    {
     "name": "stdout",
     "output_type": "stream",
     "text": [
      "nao - estadisticas en el equipo\n",
      "tao - estadisticas en el equipo\n",
      "Tiene juegos, pero no los suficientes\n",
      "tao - estadisticas en LPG\n",
      "tao - estadisticas en los ultimos 12 meses\n",
      "benjaz - estadisticas en el equipo\n",
      "d1smar - estadisticas en el equipo\n",
      "cara - estadisticas en el equipo\n"
     ]
    }
   ],
   "source": [
    "driver = Chrome('chromedriver.exe')\n",
    "df = pd.DataFrame()\n",
    "for player,playerid in team.items():\n",
    "    try:\n",
    "        playerbyteam = \"https://www.dotabuff.com/esports/players/\" + playerid + \"/heroes?team_id=\" + teamid\n",
    "        temp = statscraper(driver,playerbyteam)\n",
    "        print(player,'- estadisticas en el equipo')\n",
    "        agg = agregado(temp)\n",
    "    except NoSuchElementException:\n",
    "        lpgstats = []\n",
    "        for lpgid in idslpg:\n",
    "            try:\n",
    "                playerinlpg = \"https://www.dotabuff.com/esports/players/\" + playerid + \"/heroes?league_id=\" + lpgid\n",
    "                temp = statscraper(driver,playerinlpg)\n",
    "                print(player,'- estadisticas en LPG')\n",
    "                lpgstats.append(temp)\n",
    "            except NoSuchElementException:\n",
    "                pass\n",
    "            notenough = False\n",
    "            if len(lpgstats) == 0:\n",
    "                notenough = True\n",
    "            else:\n",
    "                final = consolidado(lpgstats)\n",
    "                agg = agregado2(final)\n",
    "                if agg['matches'] < 15:\n",
    "                    notenough = True\n",
    "        if notenough:\n",
    "            player12months = \"https://www.dotabuff.com/esports/players/\" + playerid + \"/heroes?date=year\"\n",
    "            temp = statscraper(driver,player12months)\n",
    "            print(player,'- estadisticas en los ultimos 12 meses')\n",
    "            agg = agregado2(temp)\n",
    "    agg['player']=player\n",
    "    df = df.append(agg,ignore_index=True)\n",
    "\n",
    "df = df[['player','kda','lh','gpm','xpm','winrate']]\n",
    "df['lh'] = df['lh'].astype(int)\n",
    "df['kda'] = (df['kda']*100).astype(int).astype(float)/100\n",
    "df['gpm'] = df['gpm'].astype(int)\n",
    "df['xpm'] = df['xpm'].astype(int)\n",
    "df['winrate'] = df['winrate']*100\n",
    "df['winrate'] = (df['winrate']*100).astype(int).astype(float)/100\n",
    "\n",
    "df.to_csv('./output/csv/'+teamname+'.csv',sep=';')"
   ]
  }
 ],
 "metadata": {
  "colab": {
   "name": "Untitled9.ipynb",
   "provenance": []
  },
  "kernelspec": {
   "display_name": "Python 3",
   "language": "python",
   "name": "python3"
  },
  "language_info": {
   "codemirror_mode": {
    "name": "ipython",
    "version": 3
   },
   "file_extension": ".py",
   "mimetype": "text/x-python",
   "name": "python",
   "nbconvert_exporter": "python",
   "pygments_lexer": "ipython3",
   "version": "3.7.5"
  }
 },
 "nbformat": 4,
 "nbformat_minor": 1
}
