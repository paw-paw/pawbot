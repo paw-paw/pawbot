{
 "cells": [
  {
   "cell_type": "code",
   "execution_count": 40,
   "metadata": {},
   "outputs": [],
   "source": [
    "import requests\n",
    "import pandas as pd\n",
    "import numpy as np\n",
    "from selenium.common.exceptions import NoSuchElementException\n",
    "import tkinter\n",
    "try:\n",
    "    from selenium.webdriver import Chrome\n",
    "except:\n",
    "    !pip install selenium\n",
    "    from selenium.webdriver import Chrome\n",
    "try:\n",
    "    import PIL\n",
    "    from PIL import Image\n",
    "    from PIL import ImageDraw\n",
    "    from PIL import ImageFont\n",
    "except:\n",
    "    !pip install Pillow\n",
    "    import PIL\n",
    "    from PIL import Image\n",
    "    from PIL import ImageDraw\n",
    "    from PIL import ImageFont"
   ]
  },
  {
   "cell_type": "code",
   "execution_count": 2,
   "metadata": {},
   "outputs": [],
   "source": [
    "db = []\n",
    "\n",
    "response = requests.get(\"https://api.stratz.com/api/v1/Hero\")\n",
    "json = response.json()\n",
    "\n",
    "herolist = dict()\n",
    "for key,item in json.items():\n",
    "    herolist[item['id']] = item['shortName']\n",
    "\n",
    "response = requests.get('https://api.opendota.com/api/heroStats')\n",
    "json = response.json()\n",
    "\n",
    "for elem in json:\n",
    "    temp = dict()\n",
    "    temp['id'] = elem['hero_id']\n",
    "    temp['name'] = elem['name']\n",
    "    temp['fullname'] = elem['localized_name']\n",
    "    temp['active'] = elem['cm_enabled']\n",
    "    temp['bans'] = elem['pro_ban']\n",
    "    temp['wins'] = elem['pro_win']\n",
    "    temp['picks'] = elem['pro_pick']\n",
    "    db.append(temp)\n",
    "\n",
    "names = []\n",
    "for elem in db:\n",
    "    names.append(elem['fullname'])\n",
    "ids = []\n",
    "for elem in db:\n",
    "    ids.append(elem['id'])\n",
    "namelist = dict(zip(ids,names))\n",
    "dblist = dict(zip(ids,db))\n",
    "\n",
    "del response\n",
    "del json"
   ]
  },
  {
   "cell_type": "code",
   "execution_count": 4,
   "metadata": {},
   "outputs": [],
   "source": [
    "def find_key(dic, val):\n",
    "    return [k for k, v in dic.items() if v == val][0]"
   ]
  },
  {
   "cell_type": "code",
   "execution_count": 50,
   "metadata": {},
   "outputs": [
    {
     "data": {
      "text/plain": [
       "{'id': 112,\n",
       " 'name': 'npc_dota_hero_winter_wyvern',\n",
       " 'fullname': 'Winter Wyvern',\n",
       " 'active': True,\n",
       " 'bans': 381,\n",
       " 'wins': 153,\n",
       " 'picks': 313}"
      ]
     },
     "execution_count": 50,
     "metadata": {},
     "output_type": "execute_result"
    }
   ],
   "source": [
    "dblist[112]['picks']"
   ]
  },
  {
   "cell_type": "code",
   "execution_count": 94,
   "metadata": {},
   "outputs": [],
   "source": [
    "img = Image.open('./base_sidebar.png')\n",
    "\n",
    "temp = Image.open('./heroes/' + herolist[112] + '.png')\n",
    "\n",
    "img.paste(temp, (1686,365))\n",
    "\n"
   ]
  },
  {
   "cell_type": "code",
   "execution_count": 208,
   "metadata": {},
   "outputs": [],
   "source": [
    "from tkinter import ttk\n",
    "\n",
    "def generarImagen(event=None):\n",
    "    img = Image.open('./base_sidebar.png')\n",
    "    \n",
    "    heroid = find_key(namelist,myname.get())\n",
    "    temp = Image.open('./heroes/' + herolist[heroid] + '.png')\n",
    "    temp = temp.resize((218,119))\n",
    "    img.paste(temp, (1685,365))\n",
    "    \n",
    "    picked = str(dblist[heroid]['picks'])\n",
    "    banned = str(dblist[heroid]['bans'])\n",
    "    winrate = '{0:.2f}'.format((dblist[heroid]['wins']/dblist[heroid]['picks'])*100)+'%'\n",
    "\n",
    "    draw = ImageDraw.Draw(img)\n",
    "    font = ImageFont.truetype('AvenirNext-DemiBold-03.ttf',30)\n",
    "    W = 1708\n",
    "    H = 490\n",
    "    w, h = draw.textsize('WINRATE')\n",
    "    draw.text((W+w/2,H+h/2), 'WINRATE', font=font)\n",
    "    \n",
    "    W = 1800\n",
    "    H = 553\n",
    "    font = ImageFont.truetype('AvenirNext-DemiBold-03.ttf',55)\n",
    "    w, h = draw.textsize(winrate,font=font)\n",
    "    draw.text((W-w/2,H-h/2),winrate,font=font)\n",
    "    \n",
    "    W = 1708\n",
    "    H = 574\n",
    "    font = ImageFont.truetype('AvenirNext-DemiBold-03.ttf',25)\n",
    "    w, h = draw.textsize('PICKED',font=font)\n",
    "    draw.text((W+w/2,H+h/2),'PICKED',font=font)\n",
    "    \n",
    "    W = 1798\n",
    "    H = 632\n",
    "    font = ImageFont.truetype('AvenirNext-DemiBold-03.ttf',43)\n",
    "    w, h = draw.textsize(picked,font=font)\n",
    "    draw.text((W-w/2,H-h/2),picked,font=font)\n",
    "    \n",
    "    W = 1688\n",
    "    H = 648\n",
    "    font = ImageFont.truetype('AvenirNext-DemiBold-03.ttf',25)\n",
    "    w, h = draw.textsize('BANNED',font=font)\n",
    "    draw.text((W+w/2,H+h/2),'BANNED',font=font)\n",
    "    \n",
    "    W = 1798\n",
    "    H = 706\n",
    "    font = ImageFont.truetype('AvenirNext-DemiBold-03.ttf',43)\n",
    "    w, h = draw.textsize(banned,font=font)\n",
    "    draw.text((W-w/2,H-h/2),banned,font=font)\n",
    "   \n",
    "    \n",
    "    img.show()\n",
    "    img.save(dblist[heroid]['fullname']+'.png')\n",
    "    \n",
    "    return\n",
    "\n",
    "master = tkinter.Tk()\n",
    "master.bind('<Return>',generarImagen)\n",
    "myname = tkinter.StringVar()\n",
    "master.title(\"Generar Stats Stream\")\n",
    "tkinter.Label(master,text='Elige el héroe').grid(row=1,column=0)\n",
    "tkinter.Button(text='Generar',command=generarImagen).grid(row=2,column=1)\n",
    "\n",
    "combobox = ttk.Combobox(master,height=20,textvariable = myname,state='readonly')\n",
    "combobox.grid(row=1,column=1)\n",
    "names.sort()\n",
    "combobox['values'] = names\n",
    "combobox.current(0)\n",
    "\n",
    "tkinter.mainloop()"
   ]
  },
  {
   "cell_type": "code",
   "execution_count": null,
   "metadata": {},
   "outputs": [],
   "source": [
    "\n",
    "pip install requests --update\n",
    "pip install pandas --update\n",
    "pip install numpy --update\n",
    "pip install selenium --update\n",
    "pip install Pillow --update\n",
    "\n"
   ]
  },
  {
   "cell_type": "code",
   "execution_count": null,
   "metadata": {},
   "outputs": [],
   "source": [
    "import requests\n",
    "import pandas as pd\n",
    "import numpy as np\n",
    "from selenium.common.exceptions import NoSuchElementException\n",
    "import tkinter\n",
    "try:\n",
    "    from selenium.webdriver import Chrome\n",
    "except:\n",
    "    !pip install selenium\n",
    "    from selenium.webdriver import Chrome\n",
    "try:\n",
    "    import PIL\n",
    "    from PIL import Image\n",
    "    from PIL import ImageDraw\n",
    "    from PIL import ImageFont\n",
    "except:\n",
    "    !pip install Pillow\n",
    "    import PIL\n",
    "    from PIL import Image\n",
    "    from PIL import ImageDraw\n",
    "    from PIL import ImageFont"
   ]
  }
 ],
 "metadata": {
  "kernelspec": {
   "display_name": "Python 3",
   "language": "python",
   "name": "python3"
  },
  "language_info": {
   "codemirror_mode": {
    "name": "ipython",
    "version": 3
   },
   "file_extension": ".py",
   "mimetype": "text/x-python",
   "name": "python",
   "nbconvert_exporter": "python",
   "pygments_lexer": "ipython3",
   "version": "3.7.5"
  }
 },
 "nbformat": 4,
 "nbformat_minor": 2
}
